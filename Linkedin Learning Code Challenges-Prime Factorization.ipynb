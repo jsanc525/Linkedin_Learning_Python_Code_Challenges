{
 "cells": [
  {
   "cell_type": "code",
   "execution_count": 19,
   "metadata": {},
   "outputs": [
    {
     "name": "stdout",
     "output_type": "stream",
     "text": [
      "11 is a prime number\n"
     ]
    }
   ],
   "source": [
    "# Program to check if a number is prime or not\n",
    "# Code from: https://www.programiz.com/python-programming/examples/prime-number\n",
    "\n",
    "num = 11\n",
    "\n",
    "# To take input from the user\n",
    "#num = int(input(\"Enter a number: \"))\n",
    "\n",
    "# prime numbers are greater than 1\n",
    "if num > 1:\n",
    "   # check for factors\n",
    "   for i in range(2,num//2):\n",
    "       if (num % i) == 0:\n",
    "           print(num,\"is not a prime number\")\n",
    "           print(i,\"times\",num//i,\"is\",num)\n",
    "           break\n",
    "   else:\n",
    "       print(num,\"is a prime number\")\n",
    "       \n",
    "# if input number is less than\n",
    "# or equal to 1, it is not prime\n",
    "else:\n",
    "   print(num,\"is not a prime number\")"
   ]
  },
  {
   "cell_type": "code",
   "execution_count": 20,
   "metadata": {},
   "outputs": [],
   "source": [
    "# creates function based on above code and uses the 1/2 input number to limit the range of values being checked\n",
    "\n",
    "def prime_test(num):\n",
    "    if num > 1:\n",
    "        for i in range(2, num//2):\n",
    "            if (num % i) == 0:\n",
    "                return [i, num//i]\n",
    "                break \n",
    "        else:\n",
    "            return num\n",
    "            \n",
    "    else:\n",
    "        return (str(num) + 'is not a prime number')"
   ]
  },
  {
   "cell_type": "code",
   "execution_count": 24,
   "metadata": {},
   "outputs": [],
   "source": [
    "# my recursive solution to completing a list for prime factorization\n",
    "# it's messy as the list has to be stored outside of the function, will work on refactoring or gaining a better\n",
    "# understanding of recursive functions in the future.\n",
    "\n",
    "lst_ = []\n",
    "def test_factor(num):\n",
    "    x = prime_test(num)\n",
    "    if type(x) == str:\n",
    "        return num\n",
    "    elif type(x) == list:\n",
    "        for i in x:\n",
    "            test_factor(i)\n",
    "    else:\n",
    "        #type(x) == int:\n",
    "        # print(x): remove comment to make sure that calculations are being completed\n",
    "        lst_.append(x)\n",
    "        #return x\n",
    "\n",
    "    "
   ]
  },
  {
   "cell_type": "code",
   "execution_count": 27,
   "metadata": {},
   "outputs": [
    {
     "data": {
      "text/plain": [
       "[7, 11, 13]"
      ]
     },
     "execution_count": 27,
     "metadata": {},
     "output_type": "execute_result"
    }
   ],
   "source": [
    "# example of implimentation\n",
    "lst_ = []\n",
    "test_factor(1001)\n",
    "lst_"
   ]
  },
  {
   "cell_type": "code",
   "execution_count": null,
   "metadata": {},
   "outputs": [],
   "source": []
  }
 ],
 "metadata": {
  "kernelspec": {
   "display_name": "Python 3",
   "language": "python",
   "name": "python3"
  },
  "language_info": {
   "codemirror_mode": {
    "name": "ipython",
    "version": 3
   },
   "file_extension": ".py",
   "mimetype": "text/x-python",
   "name": "python",
   "nbconvert_exporter": "python",
   "pygments_lexer": "ipython3",
   "version": "3.7.6"
  }
 },
 "nbformat": 4,
 "nbformat_minor": 4
}
