{
 "cells": [
  {
   "cell_type": "markdown",
   "metadata": {},
   "source": [
    "# The Waiting Game\n",
    "###### display message to wait for random time (2-4 seconds) before hitting the enter button\n",
    "###### hit enter button to return time and message (too fast, too slow, just right)"
   ]
  },
  {
   "cell_type": "markdown",
   "metadata": {},
   "source": [
    "### My Solution:"
   ]
  },
  {
   "cell_type": "code",
   "execution_count": 1,
   "metadata": {},
   "outputs": [],
   "source": [
    "import random\n",
    "import time"
   ]
  },
  {
   "cell_type": "code",
   "execution_count": 2,
   "metadata": {},
   "outputs": [],
   "source": [
    "def thunder_dome():\n",
    "    \n",
    "    x = input('Press Enter to continue...')\n",
    "    g_time = random.randrange(2, 4, 1)\n",
    "    if x == '':\n",
    "        print('Welcome to the Thunderdome')\n",
    "        print('You must wait ' + str(g_time) + ' seconds to press enter')\n",
    "        y = input('Press enter to begin')\n",
    "        if y == '':\n",
    "            s_time = time.perf_counter()\n",
    "            z = input('And away we go. Press Enter to test your skill')\n",
    "            if z == '':\n",
    "                e_time = time.perf_counter()\n",
    "                t_time = e_time - s_time\n",
    "                if t_time < g_time:\n",
    "                    print('You pressed in ' + str(t_time) + ' seconds, too fast Quickdraw McGraw.')\n",
    "                elif t_time > g_time:\n",
    "                    print('You pressed in ' + str(t_time) + ' seconds, too slow Droopy')\n",
    "                else:\n",
    "                    print('You pressed in ' + str(t_time) + ' seconds, you have won the Thunderdome, Nerd')\n",
    "            else:\n",
    "                print(\"You can't follow directions. You'll now be sacrificed to the lions\")\n",
    "        else:\n",
    "            print('Seriously, you had one job')\n",
    "    else:\n",
    "        print('You should be ashamed of yourself')"
   ]
  },
  {
   "cell_type": "code",
   "execution_count": 3,
   "metadata": {},
   "outputs": [
    {
     "name": "stdout",
     "output_type": "stream",
     "text": [
      "Press Enter to continue...\n",
      "Welcome to the Thunderdome\n",
      "You must wait 3 seconds to press enter\n",
      "Press enter to begin\n",
      "And away we go. Press Enter to test your skill\n",
      "You pressed in 3.2172929000000003 seconds, too slow Droopy\n"
     ]
    }
   ],
   "source": [
    "thunder_dome()"
   ]
  },
  {
   "cell_type": "markdown",
   "metadata": {},
   "source": [
    "### Barron Stone Solution:"
   ]
  },
  {
   "cell_type": "code",
   "execution_count": 8,
   "metadata": {},
   "outputs": [],
   "source": [
    "# import time\n",
    "# import random\n",
    "\n",
    "def waiting_game():\n",
    "    target = random.randint(2, 4) # target seconds to wait\n",
    "    print('\\nYour target time is {} seconds'.format(target))\n",
    "    \n",
    "    input(' ---Press Enter to Begin--- ')\n",
    "    start = time.perf_counter()\n",
    "\n",
    "    input('\\n...Pre Enter again after {} seconds...'.format(target))\n",
    "    elapsed = time.perf_counter() - start\n",
    "    \n",
    "    print('\\nElapsed time: {0:.3f} seconds'.format(elapsed))\n",
    "    if elapsed == target:\n",
    "        print('(Unbelievable! Perfect timing!)')\n",
    "    elif elapsed < target:\n",
    "        print('({0:.3f} seconds too fast)'.format(target-elapsed))\n",
    "    else:\n",
    "        print('({0:3f} seconds too slow)'.format(elapsed - target))"
   ]
  },
  {
   "cell_type": "code",
   "execution_count": 10,
   "metadata": {},
   "outputs": [
    {
     "name": "stdout",
     "output_type": "stream",
     "text": [
      "\n",
      "Your target time is 4 seconds\n",
      " ---Press Enter to Begin--- \n",
      "\n",
      "...Pre Enter again after 4 seconds...\n",
      "\n",
      "Elapsed time: 3.382 seconds\n",
      "(0.618 seconds too fast)\n"
     ]
    }
   ],
   "source": [
    "waiting_game()"
   ]
  },
  {
   "cell_type": "code",
   "execution_count": null,
   "metadata": {},
   "outputs": [],
   "source": []
  }
 ],
 "metadata": {
  "kernelspec": {
   "display_name": "Python 3",
   "language": "python",
   "name": "python3"
  },
  "language_info": {
   "codemirror_mode": {
    "name": "ipython",
    "version": 3
   },
   "file_extension": ".py",
   "mimetype": "text/x-python",
   "name": "python",
   "nbconvert_exporter": "python",
   "pygments_lexer": "ipython3",
   "version": "3.7.6"
  }
 },
 "nbformat": 4,
 "nbformat_minor": 4
}
